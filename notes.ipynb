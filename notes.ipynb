{
 "cells": [
  {
   "cell_type": "code",
   "execution_count": null,
   "metadata": {},
   "outputs": [],
   "source": [
    "\"\"\"\n",
    "Questions:\n",
    "1. why do we like uniform distribution? like why do we need to regularize the loss function?\n",
    "why do we want w to be close to 0 \n",
    "2. mtx multiplication moving between dimensions\n",
    "\"\"\""
   ]
  },
  {
   "cell_type": "code",
   "execution_count": null,
   "metadata": {},
   "outputs": [],
   "source": [
    "\"\"\"\n",
    "DERIVATIVES\n",
    "\n",
    "I keep forgetting what a derivative actually is and how to interpret it so I'm going to write it out here. The way I like to think about it:\n",
    "\n",
    "1. Imagine a d-t graph where time is on the x axis and distance on the y axis.\n",
    "2. A point on this graph represents the displacement from the origin. (or distance if its a straight line)\n",
    "3. Velocity is how much displacement is happening in 1 second\n",
    "-- Avg velocity: change in displacement over a time interval \n",
    "(u could have covered a distance of 1000m coz of different turns but if ur displacement is 10m then that will be taken wrt to the total time taken)\n",
    "avg velocity of 10m/s means every second we cover 10m\n",
    "-- Instantaneous velocity: what is the change in displacement at this moment. ofcourse this is a lil meaningless without a reference point.\n",
    "So at point x, we take x+h as our reference point. h here is tiny and close to 0.\n",
    "Instantaneous velocity at x = lim h->0 f(x+h)-f(x)/x+h-x\n",
    "if time changes slightly, find out how much displacement is happening and divide that by the smol time diff to get the rate of change/velocity. \n",
    "this gives us the best approximation for the velocity around that point.\n",
    "\n",
    "If f(x)=x, for x = 2, \n",
    "y = 2, we have covered 2m\n",
    "dy/dx=1, y is changing by 1m/s around x = 2\n",
    "\n",
    "now, if f(x)=x^2, at x = 2\n",
    "y = 4, we have covered 4m\n",
    "dy/dx = 4, y is changing by 4m/s around x = 2\n",
    "So if we go from x = 2 to x = 3, then on the *tangent line*, displacement will increase by +4\n",
    "on f(x) however, as we go from x=2 to x=3, the displacement happening at x = 3, will be given by f(3)\n",
    "\n",
    "tldr: derivative is an approx of the rate of change of a function at a point\n",
    "that we get by nudging the input a tiny bit and seeing how much the output changes\n",
    "\n",
    "\n",
    "How this applies in deep learning:\n",
    "- we compute the derivative of the loss function wrt all of its weights\n",
    "- this tells us how much the loss fn changes by if we change the weights by a tiny amount.\n",
    "- then we adjust weights accordingly \n",
    "\"\"\""
   ]
  }
 ],
 "metadata": {
  "kernelspec": {
   "display_name": "Python 3",
   "language": "python",
   "name": "python3"
  },
  "language_info": {
   "codemirror_mode": {
    "name": "ipython",
    "version": 3
   },
   "file_extension": ".py",
   "mimetype": "text/x-python",
   "name": "python",
   "nbconvert_exporter": "python",
   "pygments_lexer": "ipython3",
   "version": "3.11.2"
  },
  "orig_nbformat": 4,
  "vscode": {
   "interpreter": {
    "hash": "5c7b89af1651d0b8571dde13640ecdccf7d5a6204171d6ab33e7c296e100e08a"
   }
  }
 },
 "nbformat": 4,
 "nbformat_minor": 2
}
