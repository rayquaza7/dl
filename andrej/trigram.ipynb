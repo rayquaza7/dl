{
 "cells": [
  {
   "cell_type": "code",
   "execution_count": 2,
   "metadata": {},
   "outputs": [],
   "source": [
    "import torch\n",
    "import torch.nn.functional as F\n",
    "\n",
    "\n",
    "words = open('names.txt', 'r').read().splitlines()\n",
    "g = torch.Generator().manual_seed(42)\n",
    "\n",
    "chars = sorted(list(set(''.join(words))))\n",
    "stoi = {s: i+1 for i, s in enumerate(chars)}\n",
    "stoi['.'] = 0\n",
    "itos = {i: s for s, i in stoi.items()}"
   ]
  },
  {
   "cell_type": "code",
   "execution_count": 6,
   "metadata": {},
   "outputs": [],
   "source": [
    "\"\"\"\n",
    "Count based approach\n",
    "\n",
    "N[0][0] -> counts where the first character is '.' and the second character is '.'\n",
    "this wont happen so it'll be all zeros.\n",
    "P[0][0] -> normalized counts where the first character is '.' and the second character is '.'\n",
    "will be inf because we divide by zero.\n",
    "\"\"\"\n",
    "N = torch.zeros((27, 27, 27), dtype=torch.int32)\n",
    "\n",
    "for word in words:\n",
    "    chs = ['.'] + list(word) + ['.']\n",
    "    for ch1, ch2, ch3 in zip(chs, chs[1:], chs[2:]):\n",
    "        i1 = stoi[ch1]\n",
    "        i2 = stoi[ch2]\n",
    "        i3 = stoi[ch3]\n",
    "        N[i1, i2, i3] += 1"
   ]
  },
  {
   "cell_type": "code",
   "execution_count": 9,
   "metadata": {},
   "outputs": [
    {
     "data": {
      "text/plain": [
       "torch.Size([27, 27, 27])"
      ]
     },
     "execution_count": 9,
     "metadata": {},
     "output_type": "execute_result"
    }
   ],
   "source": [
    "\"\"\"\n",
    "The problem here is that if we take starting index 0,0\n",
    "then that means we are starting with a '.' and then a '.', which is not possible.\n",
    "So either we can smooth the counts or we can just start with the most common character.\n",
    "we'll do both, but we'll start with the most common character.\n",
    "\"\"\"\n",
    "N = N + 1\n",
    "P = N.float()\n",
    "P /= P.sum(dim=2, keepdim=True)\n",
    "out = []\n",
    "\n",
    "ix = 0\n",
    "P.shape\n",
    "\n",
    "# for i in range(10):\n",
    "    \n",
    "#     word = ''\n",
    "#     while True:\n",
    "#         p = P[ix, iy]\n",
    "#         ix = iy\n",
    "#         iy = torch.multinomial(p, 1, generator=g,replacement=True).item()\n",
    "#         if iy == 0:\n",
    "#             break\n",
    "#         word += itos[ix]\n",
    "#     out.append(word)\n",
    "# out"
   ]
  },
  {
   "cell_type": "code",
   "execution_count": null,
   "metadata": {},
   "outputs": [],
   "source": []
  }
 ],
 "metadata": {
  "kernelspec": {
   "display_name": "dl",
   "language": "python",
   "name": "python3"
  },
  "language_info": {
   "codemirror_mode": {
    "name": "ipython",
    "version": 3
   },
   "file_extension": ".py",
   "mimetype": "text/x-python",
   "name": "python",
   "nbconvert_exporter": "python",
   "pygments_lexer": "ipython3",
   "version": "3.10.4"
  },
  "orig_nbformat": 4,
  "vscode": {
   "interpreter": {
    "hash": "ede504b66cf9ff0b1e1d514523a87119f04b36ace815696b8ce56fe78cc4d04c"
   }
  }
 },
 "nbformat": 4,
 "nbformat_minor": 2
}
